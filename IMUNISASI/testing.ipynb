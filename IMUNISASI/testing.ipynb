{
 "cells": [
  {
   "cell_type": "code",
   "execution_count": 9,
   "metadata": {},
   "outputs": [],
   "source": [
    "#Data collection, save in CSV file\n",
    "import tweepy\n",
    "import csv\n",
    "import time\n",
    "from datetime import datetime\n",
    "from datetime import timedelta\n",
    "\n",
    "\n",
    "consumer_key = \"wJvckQyRGO9j6IP1HLEqKHy2T\"\n",
    "consumer_secret = \"vgActfGgy0UCGR5OGSGRNPiX75jIeXlNGpTtFsqStVjIY6EiIR\"\n",
    "access_token = \"150884743-9FLqDlzvx6FFxZvhms2m4CItsFR2ANcJR4liz1HI\"\n",
    "access_token_secret = \"Epn0ZK4uF13BMEkyIZqk7KToeXkymOl7yVG5gCNutRsFQ\"\n",
    "\n",
    "auth = tweepy.OAuthHandler(consumer_key, consumer_secret)\n",
    "auth.set_access_token(access_token, access_token_secret)\n",
    "api = tweepy.API(auth,wait_on_rate_limit=True)\n",
    "\n",
    "yesterday = (datetime.now() + timedelta(days=-1)).strftime(\"%Y-%m-%d\")\n",
    "csvFile = open('imunisasi_testing_'+yesterday+'.csv', 'a')\n",
    "csvWriter = csv.writer(csvFile)\n",
    "#csvWriter.writerow([\"id\",\"created_at\",\"text\",\"time_zone\",\"place\",\"coordinates\",\"location\",\"user_name\",\"screen_name\",\"retweet_count\",\"favourite_count\"])\n",
    "\n",
    "for tweet in tweepy.Cursor(api.search,q=\"'polio AND wabah' -filter:retweets\",count=10000,lang=\"in\",since=yesterday,tweet_mode='extended').items():\n",
    "                \n",
    "    if(tweet.created_at.date() < datetime.now().date()) :\n",
    "        print (tweet.full_text.encode('unicode escape')) \n",
    "        '''csvWriter.writerow([tweet.id,\n",
    "                            tweet.created_at,\n",
    "                            tweet.full_text.encode('utf-8'),\n",
    "                            tweet.user.time_zone,\n",
    "                            tweet.place, \n",
    "                            tweet.coordinates,\n",
    "                            tweet.user.location.encode('utf-8'),\n",
    "                            tweet.user.name.encode('utf-8'),\n",
    "                            tweet.user.screen_name.encode('utf-8'),\n",
    "                            tweet.retweet_count,\n",
    "                            tweet.favorite_count\n",
    "                           ])'''"
   ]
  },
  {
   "cell_type": "code",
   "execution_count": null,
   "metadata": {},
   "outputs": [],
   "source": []
  }
 ],
 "metadata": {
  "kernelspec": {
   "display_name": "Python 3",
   "language": "python",
   "name": "python3"
  },
  "language_info": {
   "codemirror_mode": {
    "name": "ipython",
    "version": 3
   },
   "file_extension": ".py",
   "mimetype": "text/x-python",
   "name": "python",
   "nbconvert_exporter": "python",
   "pygments_lexer": "ipython3",
   "version": "3.6.8"
  }
 },
 "nbformat": 4,
 "nbformat_minor": 2
}
