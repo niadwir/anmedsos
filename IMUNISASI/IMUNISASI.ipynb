{
 "cells": [
  {
   "cell_type": "code",
   "execution_count": 79,
   "metadata": {},
   "outputs": [],
   "source": [
    "#Data collection, save in CSV file\n",
    "import tweepy\n",
    "import csv\n",
    "import time\n",
    "from datetime import datetime\n",
    "from datetime import timedelta\n",
    "import json\n",
    "\n",
    "\n",
    "consumer_key = \"wJvckQyRGO9j6IP1HLEqKHy2T\"\n",
    "consumer_secret = \"vgActfGgy0UCGR5OGSGRNPiX75jIeXlNGpTtFsqStVjIY6EiIR\"\n",
    "access_token = \"150884743-9FLqDlzvx6FFxZvhms2m4CItsFR2ANcJR4liz1HI\"\n",
    "access_token_secret = \"Epn0ZK4uF13BMEkyIZqk7KToeXkymOl7yVG5gCNutRsFQ\"\n",
    "\n",
    "auth = tweepy.OAuthHandler(consumer_key, consumer_secret)\n",
    "auth.set_access_token(access_token, access_token_secret)\n",
    "api = tweepy.API(auth,wait_on_rate_limit=True)\n",
    "\n",
    "yesterday = (datetime.now() + timedelta(days=-1)).strftime(\"%Y-%m-%d\")\n",
    "csvFile = open('IMUNISASI/imunisasi_tweet_'+yesterday+'.csv', 'a')\n",
    "csvWriter = csv.writer(csvFile)\n",
    "\n",
    "data = []\n",
    "jsonFile = 'IMUNISASI/imunisasi_tweet_'+yesterday+'.JSON'\n",
    "\n",
    "for tweet in tweepy.Cursor(api.search,q=\"'imunisasi OR vaksin OR vaksinasi' -filter:retweets\",count=10000,lang=\"id\",since=yesterday,tweet_mode='extended').items():\n",
    "                \n",
    "    if(tweet.created_at.date() < datetime.now().date()) :\n",
    "        #Write in CSV file \n",
    "        '''csvWriter.writerow([tweet.id,\n",
    "                            tweet.created_at,\n",
    "                            tweet.full_text.encode('utf-8'),\n",
    "                            tweet.user.time_zone,\n",
    "                            tweet.place, \n",
    "                            tweet.coordinates,\n",
    "                            tweet.user.location.encode('utf-8'),\n",
    "                            tweet.user.name.encode('utf-8'),\n",
    "                            tweet.user.screen_name.encode('utf-8'),\n",
    "                            tweet.retweet_count,\n",
    "                            tweet.favorite_count\n",
    "                           ])'''\n",
    "        #Write in JSON file\n",
    "        data.append({\n",
    "            'id':tweet.id,\n",
    "            'screen_name':tweet.user.screen_name,\n",
    "            'text':tweet.full_text\n",
    "                    \n",
    "        })\n",
    "        \n",
    "with open(jsonFile, 'w') as outfile:\n",
    "    json.dump(data, outfile,indent = 4)"
   ]
  },
  {
   "cell_type": "code",
   "execution_count": 121,
   "metadata": {},
   "outputs": [],
   "source": [
    "#emoji extract\n",
    "import emoji\n",
    "import regex as regex\n",
    "import re\n",
    "\n",
    "#emoji free text\n",
    "emoji_pattern = re.compile(\"[\"\n",
    "                           r\"\\U0001F600-\\U0001F64F\"  # emoticons\n",
    "                           r\"\\U0001F300-\\U0001F5FF\"  # symbols & pictographs\n",
    "                           r\"\\U0001F680-\\U0001F6FF\"  # transport & map symbols\n",
    "                           r\"\\U0001F1E0-\\U0001F1FF\"  # flags (iOS)\n",
    "                           r\"\\U00002702-\\U000027B0\"\n",
    "                           r\"\\U000024C2-\\U0001F251\"\n",
    "                           \"]+\", flags=re.UNICODE)\n",
    "def clean_tweets(tweet):\n",
    "    \n",
    "    tweet = re.sub(r':', '', tweet)\n",
    "    tweet = re.sub(r'‚Ä¶', '', tweet)\n",
    "    tweet = re.sub(r'[^\\x00-\\x7F]+','', tweet)\n",
    "    #tweet = re.sub(r'https?:\\/\\/.*[\\r\\n]*', '', tweet, flags=re.MULTILINE)\n",
    "    #tweet = re.sub(r'\\b(?:(?:https?|ftp)://)?\\w[\\w-]*(?:\\.[\\w-]+)+\\S*','',tweet, flags=re.MULTILINE)\n",
    "    tweet = re.sub(r'\\n',' ',tweet)\n",
    "    tweet = re.sub(r'\\d', '', tweet)\n",
    "    url_pattern = r'((http|ftp|https):\\/\\/)?[\\w\\-_]+(\\.[\\w\\-_]+)+([\\w\\-\\.,@?^=%&amp;:/~\\+#]*[\\w\\-\\@?^=%&amp;/~\\+#])?'\n",
    "    tweet = re.sub(url_pattern, '', tweet)\n",
    "    tweet = re.sub(r'https//', '', tweet)\n",
    "    tweet = re.sub(r'&amp;', '&', tweet)\n",
    "    tweet = re.sub(r'\\s+', ' ', tweet) # standardize white space\n",
    "    #tweet = re.sub(r'&amp;','', tweet)\n",
    "    tweet = emoji_pattern.sub(r'', tweet)\n",
    "    #remove = string.punctuation\n",
    "    #tweet = ' '.join(word.strip(remove) for word in tweet.split())\n",
    "\n",
    "    return tweet\n",
    "\n",
    "def extract_emojis(a_list):\n",
    "    emojis_list = map(lambda x: ''.join(x.split()), emoji.UNICODE_EMOJI.keys())\n",
    "    r = re.compile('|'.join(re.escape(p) for p in emojis_list))\n",
    "    aux=[','.join(r.findall(s)) for s in a_list]\n",
    "    return(aux)\n",
    "\n",
    "clean_tweet = []\n",
    "jsonCleanText = 'IMUNISASI/imunisasi_tweet_clean_'+yesterday+'.JSON'\n",
    "hashtags = []\n",
    "jsonCleanHashtags = 'IMUNISASI/imunisasi_tweet_hashtags_'+yesterday+'.JSON'\n",
    "txt_list = []\n",
    "jsonExtractEmoji = 'IMUNISASI/imunisasi_tweet_emoji_'+yesterday+'.JSON'\n",
    "with open('IMUNISASI/imunisasi_tweet_'+yesterday+'.JSON') as data_file: #Read JSON File\n",
    "    data = json.load(data_file)\n",
    "    for i in data:\n",
    "        #print(i['text'])\n",
    "        #Hashtag Extract\n",
    "        ht = re.findall(r\"#(\\w+)\", i['text'])\n",
    "        hashtags.append(ht)\n",
    "        \n",
    "        #Clean Text Extract\n",
    "        tweet = clean_tweets(i['text'])\n",
    "        txt = i['text']\n",
    "        txt_list.append(txt)\n",
    "        #emo = emojiXtract(i['text'])\n",
    "        #emoji.append(emo)\n",
    "        clean_tweet.append({\n",
    "            'id':i['id'],\n",
    "            'text':tweet\n",
    "        })\n",
    "emojis = extract_emojis(txt_list)\n",
    "emoji = []\n",
    "#WRITE To File\n",
    "with open(jsonCleanText, 'w') as outfile:\n",
    "    json.dump(clean_tweet, outfile,indent = 4)\n",
    "with open(jsonCleanHashtags, 'w') as outfile:\n",
    "    json.dump(hashtags, outfile,indent = 4)\n",
    "    \n",
    "for i in emojis:\n",
    "        if i!=\"\":\n",
    "            emoji.append(i)\n",
    "     \n",
    "#emoji_all = ','.join(emo for emo in emoji)\n",
    "#print(emoji_all)\n",
    "with open(jsonExtractEmoji, 'w') as outfile:\n",
    "    json.dump(emoji, outfile,indent = 4)"
   ]
  },
  {
   "cell_type": "code",
   "execution_count": 120,
   "metadata": {
    "scrolled": true
   },
   "outputs": [
    {
     "name": "stdout",
     "output_type": "stream",
     "text": [
      "['selautersenyum', 'selalubersyukur', 'selalubahagia', 'selaluberdoa', 'edisisakit', 'fun', 'smile', 'pretty', 'kochengoren', 'HanyaDiYogya', 'YOGYAGROUP', 'Vaksin', 'eirenetheresapriyanto', 'eirene', 'daughter', 'SahabatImun', 'IMUNinfo', 'AyoImunisasi', 'InfoImunisasi', 'vaccines', 'IMUNinfowork', 'vaccine', 'LindungiHebatmu', 'KelompokImunitas', 'HerdImmunity', 'BersamaTerlindungi', 'Parenting', 'Imunisasi', 'FunFacts', 'SDMUnggulIndonsiaMaju', 'infokesehatan', 'uptpkmpadasuka', 'siapmelayanidenganhati', 'Paripurna164', 'Blog', 'HappyBlogging', 'Paripurna164', 'FMTNews', 'vaksin', 'imunisasi', 'balimedikaclinic', 'balimedika', 'noblame', 'noshame', 'vaccines', 'influenzavaccine', 'GerakanNasionalBudayaNusantara', 'BangkitBudayaNusantara', 'TolakPenjajahanBudaya', 'NusantaraBukanKhilafah']\n"
     ]
    },
    {
     "data": {
      "image/png": "[encoded data removed]",
      "text/plain": [
       "<Figure size 1152x360 with 1 Axes>"
      ]
     },
     "metadata": {
      "needs_background": "light"
     },
     "output_type": "display_data"
    }
   ],
   "source": [
    "#VIEW HASHTAG \n",
    "hashtags=[]\n",
    "with open('IMUNISASI/imunisasi_tweet_hashtags_'+yesterday+'.JSON') as data_file: #Read JSON File\n",
    "    data = json.load(data_file)\n",
    "    for i in data:\n",
    "        if i!=\"\":\n",
    "            hashtags.append(i)\n",
    "      \n",
    "HT_all = sum(hashtags,[])\n",
    "print(HT_all)\n",
    "#show bar plot\n",
    "a = nltk.FreqDist(HT_all)\n",
    "d = pd.DataFrame({'Hashtag': list(a.keys()),\n",
    "                  'Count': list(a.values())})\n",
    "# selecting top 10 most frequent hashtags     \n",
    "d = d.nlargest(columns=\"Count\", n = 10) \n",
    "plt.figure(figsize=(16,5))\n",
    "ax = sns.barplot(data=d, x= \"Hashtag\", y = \"Count\")\n",
    "ax.set(ylabel = 'Count')\n",
    "plt.show()"
   ]
  },
  {
   "cell_type": "code",
   "execution_count": 125,
   "metadata": {},
   "outputs": [
    {
     "name": "stdout",
     "output_type": "stream",
     "text": [
      "😂,🤭,😭,😭,😭,😭,🤔,😘,😭,😃,👍,☹,☹,☹,☹,💜,☹,😖,😩,😭,😭,😭,😞,😭,😭,😶,👍,☺,🥺,👧,🏻,😭,😭,😭,😭,😭,😭,😭,😭,🙏,🙏,👌,🙃,❤,❤,❤,🙂,🙂,🤣,😂,🥰,🙂,😂,✅,✅,✅,✅,👧,👩,😂,👧,👩,😂,😆,🤣,😅,👏,🏼,👏,🏼,👏,🏼,😓,🤣,🤣,😂,😪,😁,🙄,😏,😏,😍,🙈,😂,🤦,🏼,♀,😂,😊,👌\n"
     ]
    }
   ],
   "source": [
    "#VIEW EMOJI \n",
    "emoji=[]\n",
    "with open('IMUNISASI/imunisasi_tweet_emoji_'+yesterday+'.JSON') as data_file: #Read JSON File\n",
    "    data = json.load(data_file)\n",
    "    for i in data:\n",
    "        #if i!=\"\":\n",
    "            emoji.append(i)\n",
    "     \n",
    "emoji_all = ','.join(emo for emo in emoji)\n",
    "print(emoji_all)\n",
    "\n"
   ]
  },
  {
   "cell_type": "code",
   "execution_count": 128,
   "metadata": {},
   "outputs": [
    {
     "ename": "ValueError",
     "evalue": "We need at least 1 word to plot a word cloud, got 0.",
     "output_type": "error",
     "traceback": [
      "\u001b[1;31m---------------------------------------------------------------------------\u001b[0m",
      "\u001b[1;31mValueError\u001b[0m                                Traceback (most recent call last)",
      "\u001b[1;32m<ipython-input-128-c81d5b8d8053>\u001b[0m in \u001b[0;36m<module>\u001b[1;34m\u001b[0m\n\u001b[0;32m      2\u001b[0m \u001b[1;31m#WORD CLOUD\u001b[0m\u001b[1;33m\u001b[0m\u001b[1;33m\u001b[0m\u001b[1;33m\u001b[0m\u001b[0m\n\u001b[0;32m      3\u001b[0m \u001b[1;32mfrom\u001b[0m \u001b[0mwordcloud\u001b[0m \u001b[1;32mimport\u001b[0m \u001b[0mWordCloud\u001b[0m\u001b[1;33m,\u001b[0m \u001b[0mSTOPWORDS\u001b[0m\u001b[1;33m\u001b[0m\u001b[1;33m\u001b[0m\u001b[0m\n\u001b[1;32m----> 4\u001b[1;33m \u001b[0mwordcloud\u001b[0m \u001b[1;33m=\u001b[0m \u001b[0mWordCloud\u001b[0m\u001b[1;33m(\u001b[0m\u001b[0mmax_font_size\u001b[0m\u001b[1;33m=\u001b[0m\u001b[1;36m50\u001b[0m\u001b[1;33m,\u001b[0m \u001b[0mbackground_color\u001b[0m\u001b[1;33m=\u001b[0m\u001b[1;34m'white'\u001b[0m\u001b[1;33m)\u001b[0m\u001b[1;33m.\u001b[0m\u001b[0mgenerate\u001b[0m\u001b[1;33m(\u001b[0m\u001b[0memoji_all\u001b[0m\u001b[1;33m)\u001b[0m\u001b[1;33m\u001b[0m\u001b[1;33m\u001b[0m\u001b[0m\n\u001b[0m\u001b[0;32m      5\u001b[0m \u001b[0mplt\u001b[0m\u001b[1;33m.\u001b[0m\u001b[0mfigure\u001b[0m\u001b[1;33m(\u001b[0m\u001b[1;33m)\u001b[0m\u001b[1;33m\u001b[0m\u001b[1;33m\u001b[0m\u001b[0m\n\u001b[0;32m      6\u001b[0m \u001b[0mplt\u001b[0m\u001b[1;33m.\u001b[0m\u001b[0mimshow\u001b[0m\u001b[1;33m(\u001b[0m\u001b[0mwordcloud\u001b[0m\u001b[1;33m,\u001b[0m \u001b[0minterpolation\u001b[0m\u001b[1;33m=\u001b[0m\u001b[1;34m\"bilinear\"\u001b[0m\u001b[1;33m)\u001b[0m\u001b[1;33m\u001b[0m\u001b[1;33m\u001b[0m\u001b[0m\n",
      "\u001b[1;32mc:\\users\\nia dwi rahayuningty\\appdata\\local\\programs\\python\\python36\\lib\\site-packages\\wordcloud\\wordcloud.py\u001b[0m in \u001b[0;36mgenerate\u001b[1;34m(self, text)\u001b[0m\n\u001b[0;32m    603\u001b[0m         \u001b[0mself\u001b[0m\u001b[1;33m\u001b[0m\u001b[1;33m\u001b[0m\u001b[0m\n\u001b[0;32m    604\u001b[0m         \"\"\"\n\u001b[1;32m--> 605\u001b[1;33m         \u001b[1;32mreturn\u001b[0m \u001b[0mself\u001b[0m\u001b[1;33m.\u001b[0m\u001b[0mgenerate_from_text\u001b[0m\u001b[1;33m(\u001b[0m\u001b[0mtext\u001b[0m\u001b[1;33m)\u001b[0m\u001b[1;33m\u001b[0m\u001b[1;33m\u001b[0m\u001b[0m\n\u001b[0m\u001b[0;32m    606\u001b[0m \u001b[1;33m\u001b[0m\u001b[0m\n\u001b[0;32m    607\u001b[0m     \u001b[1;32mdef\u001b[0m \u001b[0m_check_generated\u001b[0m\u001b[1;33m(\u001b[0m\u001b[0mself\u001b[0m\u001b[1;33m)\u001b[0m\u001b[1;33m:\u001b[0m\u001b[1;33m\u001b[0m\u001b[1;33m\u001b[0m\u001b[0m\n",
      "\u001b[1;32mc:\\users\\nia dwi rahayuningty\\appdata\\local\\programs\\python\\python36\\lib\\site-packages\\wordcloud\\wordcloud.py\u001b[0m in \u001b[0;36mgenerate_from_text\u001b[1;34m(self, text)\u001b[0m\n\u001b[0;32m    585\u001b[0m         \"\"\"\n\u001b[0;32m    586\u001b[0m         \u001b[0mwords\u001b[0m \u001b[1;33m=\u001b[0m \u001b[0mself\u001b[0m\u001b[1;33m.\u001b[0m\u001b[0mprocess_text\u001b[0m\u001b[1;33m(\u001b[0m\u001b[0mtext\u001b[0m\u001b[1;33m)\u001b[0m\u001b[1;33m\u001b[0m\u001b[1;33m\u001b[0m\u001b[0m\n\u001b[1;32m--> 587\u001b[1;33m         \u001b[0mself\u001b[0m\u001b[1;33m.\u001b[0m\u001b[0mgenerate_from_frequencies\u001b[0m\u001b[1;33m(\u001b[0m\u001b[0mwords\u001b[0m\u001b[1;33m)\u001b[0m\u001b[1;33m\u001b[0m\u001b[1;33m\u001b[0m\u001b[0m\n\u001b[0m\u001b[0;32m    588\u001b[0m         \u001b[1;32mreturn\u001b[0m \u001b[0mself\u001b[0m\u001b[1;33m\u001b[0m\u001b[1;33m\u001b[0m\u001b[0m\n\u001b[0;32m    589\u001b[0m \u001b[1;33m\u001b[0m\u001b[0m\n",
      "\u001b[1;32mc:\\users\\nia dwi rahayuningty\\appdata\\local\\programs\\python\\python36\\lib\\site-packages\\wordcloud\\wordcloud.py\u001b[0m in \u001b[0;36mgenerate_from_frequencies\u001b[1;34m(self, frequencies, max_font_size)\u001b[0m\n\u001b[0;32m    381\u001b[0m         \u001b[1;32mif\u001b[0m \u001b[0mlen\u001b[0m\u001b[1;33m(\u001b[0m\u001b[0mfrequencies\u001b[0m\u001b[1;33m)\u001b[0m \u001b[1;33m<=\u001b[0m \u001b[1;36m0\u001b[0m\u001b[1;33m:\u001b[0m\u001b[1;33m\u001b[0m\u001b[1;33m\u001b[0m\u001b[0m\n\u001b[0;32m    382\u001b[0m             raise ValueError(\"We need at least 1 word to plot a word cloud, \"\n\u001b[1;32m--> 383\u001b[1;33m                              \"got %d.\" % len(frequencies))\n\u001b[0m\u001b[0;32m    384\u001b[0m         \u001b[0mfrequencies\u001b[0m \u001b[1;33m=\u001b[0m \u001b[0mfrequencies\u001b[0m\u001b[1;33m[\u001b[0m\u001b[1;33m:\u001b[0m\u001b[0mself\u001b[0m\u001b[1;33m.\u001b[0m\u001b[0mmax_words\u001b[0m\u001b[1;33m]\u001b[0m\u001b[1;33m\u001b[0m\u001b[1;33m\u001b[0m\u001b[0m\n\u001b[0;32m    385\u001b[0m \u001b[1;33m\u001b[0m\u001b[0m\n",
      "\u001b[1;31mValueError\u001b[0m: We need at least 1 word to plot a word cloud, got 0."
     ]
    }
   ],
   "source": [
    "#VISUALISASI\n",
    "#WORD CLOUD\n",
    "from wordcloud import WordCloud, STOPWORDS\n",
    "wordcloud = WordCloud(max_font_size=50, background_color='white').generate(emoji_all)\n",
    "plt.figure()\n",
    "plt.imshow(wordcloud, interpolation=\"bilinear\")\n",
    "plt.axis(\"off\")\n",
    "plt.show()\n",
    "#wordcloud(emoji_all)"
   ]
  },
  {
   "cell_type": "code",
   "execution_count": null,
   "metadata": {},
   "outputs": [],
   "source": [
    "import pandas as pd\n",
    "import nltk\n",
    "from nltk.stem.porter import *\n",
    "\n",
    "import matplotlib.pyplot as plt\n",
    "import seaborn as sns\n",
    "sns.set()\n",
    "%matplotlib inline\n",
    "import warnings \n",
    "warnings.filterwarnings(\"ignore\", category=DeprecationWarning)\n",
    "import requests\n",
    "from vaderSentiment.vaderSentiment import SentimentIntensityAnalyzer\n",
    "analyser = SentimentIntensityAnalyzer()\n",
    "from googletrans import Translator\n",
    "translator = Translator()"
   ]
  },
  {
   "cell_type": "code",
   "execution_count": null,
   "metadata": {},
   "outputs": [],
   "source": [
    "#MENAMBHAKAN SENTIMEN VADER\n",
    "def sentiment_analyzer_scores(text, engl=True):\n",
    "    if engl:\n",
    "        trans = text\n",
    "    else:\n",
    "        trans = translator.translate(text).text\n",
    "\n",
    "    score = analyser.polarity_scores(trans)\n",
    "    lb = score['compound']\n",
    "    if lb >= 0.05:\n",
    "        return 1\n",
    "    elif (lb > -0.05) and (lb < 0.05):\n",
    "        return 0\n",
    "    else:\n",
    "        return -1"
   ]
  },
  {
   "cell_type": "code",
   "execution_count": null,
   "metadata": {},
   "outputs": [],
   "source": [
    "import seaborn as sns\n",
    "def anl_tweets(lst, title='Tweets Sentiment', engl=False ): #engl = False karena pake bahasa indonesia\n",
    "    sents = []\n",
    "    for tw in lst:\n",
    "        try:\n",
    "            st = sentiment_analyzer_scores(tw, engl)\n",
    "            sents.append(st)\n",
    "        except:\n",
    "            sents.append(0)\n",
    "    ax = sns.distplot(\n",
    "        sents,\n",
    "        kde=False,\n",
    "        bins=3)\n",
    "    ax.set(xlabel='Negative                Neutral                 Positive',\n",
    "           ylabel='#Tweets',\n",
    "          title=\"Tweets of @\"+title)\n",
    "    return sents"
   ]
  },
  {
   "cell_type": "code",
   "execution_count": null,
   "metadata": {},
   "outputs": [],
   "source": [
    "#ANALYZE: sentimen vader , tambah kolom sent_vader\n",
    "df['sent_vader'] = anl_tweets(df.text)"
   ]
  }
 ],
 "metadata": {
  "kernelspec": {
   "display_name": "Python 3",
   "language": "python",
   "name": "python3"
  },
  "language_info": {
   "codemirror_mode": {
    "name": "ipython",
    "version": 3
   },
   "file_extension": ".py",
   "mimetype": "text/x-python",
   "name": "python",
   "nbconvert_exporter": "python",
   "pygments_lexer": "ipython3",
   "version": "3.6.8"
  }
 },
 "nbformat": 4,
 "nbformat_minor": 2
}
